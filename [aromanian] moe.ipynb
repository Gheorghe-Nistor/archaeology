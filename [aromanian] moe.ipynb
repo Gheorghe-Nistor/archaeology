{
 "metadata": {
  "kernelspec": {
   "language": "python",
   "display_name": "Python 3",
   "name": "python3"
  },
  "language_info": {
   "name": "python",
   "version": "3.10.13",
   "mimetype": "text/x-python",
   "codemirror_mode": {
    "name": "ipython",
    "version": 3
   },
   "pygments_lexer": "ipython3",
   "nbconvert_exporter": "python",
   "file_extension": ".py"
  },
  "kaggle": {
   "accelerator": "none",
   "dataSources": [
    {
     "sourceId": 7563434,
     "sourceType": "datasetVersion",
     "datasetId": 4404044
    },
    {
     "sourceId": 7563849,
     "sourceType": "datasetVersion",
     "datasetId": 4404305
    },
    {
     "sourceId": 7564807,
     "sourceType": "datasetVersion",
     "datasetId": 4404777
    },
    {
     "sourceId": 7564862,
     "sourceType": "datasetVersion",
     "datasetId": 4404800
    },
    {
     "sourceId": 7565414,
     "sourceType": "datasetVersion",
     "datasetId": 4405004
    },
    {
     "sourceId": 7565063,
     "sourceType": "datasetVersion",
     "datasetId": 4404884
    },
    {
     "sourceId": 7565590,
     "sourceType": "datasetVersion",
     "datasetId": 4405064
    }
   ],
   "dockerImageVersionId": 30646,
   "isInternetEnabled": true,
   "language": "python",
   "sourceType": "notebook",
   "isGpuEnabled": false
  }
 },
 "nbformat_minor": 4,
 "nbformat": 4,
 "cells": [
  {
   "cell_type": "code",
   "source": [
    "!pip install sacremoses --q"
   ],
   "metadata": {
    "execution": {
     "iopub.status.busy": "2024-02-05T23:15:25.207179Z",
     "iopub.execute_input": "2024-02-05T23:15:25.207706Z",
     "iopub.status.idle": "2024-02-05T23:15:43.391904Z",
     "shell.execute_reply.started": "2024-02-05T23:15:25.207666Z",
     "shell.execute_reply": "2024-02-05T23:15:43.390114Z"
    },
    "trusted": true,
    "pycharm": {
     "name": "#%%\n"
    }
   },
   "execution_count": 2,
   "outputs": []
  },
  {
   "cell_type": "code",
   "source": [
    "import os\n",
    "import re\n",
    "import sys\n",
    "import unicodedata\n",
    "import pandas as pd\n",
    "from sklearn.model_selection import train_test_split\n",
    "from sklearn.feature_extraction.text import TfidfVectorizer\n",
    "from sklearn.linear_model import LogisticRegression\n",
    "from sklearn.metrics import accuracy_score, classification_report\n",
    "from sacremoses import MosesPunctNormalizer\n",
    "from transformers import T5ForConditionalGeneration, T5ForConditionalGeneration, T5Tokenizer"
   ],
   "metadata": {
    "execution": {
     "iopub.status.busy": "2024-02-05T23:16:07.720420Z",
     "iopub.execute_input": "2024-02-05T23:16:07.721050Z",
     "iopub.status.idle": "2024-02-05T23:16:18.914272Z",
     "shell.execute_reply.started": "2024-02-05T23:16:07.720999Z",
     "shell.execute_reply": "2024-02-05T23:16:18.912833Z"
    },
    "trusted": true,
    "pycharm": {
     "name": "#%%\n"
    }
   },
   "execution_count": 3,
   "outputs": []
  },
  {
   "cell_type": "code",
   "source": [
    "DATA_PATH = '/kaggle/input/'\n",
    "DATA_FOLDER_PATH = os.path.join(DATA_PATH, 'aromanian')\n",
    "T5_RUP_RO_PATH =  os.path.join(DATA_PATH, 't5-rup-ro')\n",
    "T5_RUP_STD_RO_PATH = os.path.join(DATA_PATH, 't5-rup-ro')\n",
    "T5_RUP_CON_RO_PATH = os.path.join(DATA_PATH, 't5-rup-con-ro')\n",
    "T5_EN_RO_PATH = os.path.join(DATA_PATH, 't5-en-ro')\n",
    "T5_ES_RO_PATH =  os.path.join(DATA_PATH, 't5-es-ro')\n",
    "T5_FR_RO_PATH =  os.path.join(DATA_PATH, 't5-fr-ro')\n",
    "\n",
    "FILE_NAME = 'Tales_processed.csv'\n",
    "DATA_LANGUAGES = {\n",
    "    'rup': 'Aromanian General Dialect',\n",
    "    'rup_std': 'Aromanian Standard Dialect',\n",
    "    'rup_cun': 'Aromanian Regional Dialect',\n",
    "    'en': 'English',\n",
    "    'es': 'Spanish',\n",
    "    'fr': 'French'\n",
    "}"
   ],
   "metadata": {
    "_uuid": "8f2839f25d086af736a60e9eeb907d3b93b6e0e5",
    "_cell_guid": "b1076dfc-b9ad-4769-8c92-a6c4dae69d19",
    "execution": {
     "iopub.status.busy": "2024-02-05T23:49:01.400121Z",
     "iopub.execute_input": "2024-02-05T23:49:01.401282Z",
     "iopub.status.idle": "2024-02-05T23:49:01.411337Z",
     "shell.execute_reply.started": "2024-02-05T23:49:01.401240Z",
     "shell.execute_reply": "2024-02-05T23:49:01.410032Z"
    },
    "trusted": true,
    "pycharm": {
     "name": "#%%\n"
    }
   },
   "execution_count": 22,
   "outputs": []
  },
  {
   "cell_type": "code",
   "source": [
    "path = os.path.join(DATA_FOLDER_PATH, FILE_NAME)\n",
    "translations_df = pd.read_csv(path, index_col=[0]).drop(['ro', 'split'], axis=1)\n",
    "translations_df"
   ],
   "metadata": {
    "execution": {
     "iopub.status.busy": "2024-02-05T23:16:24.279909Z",
     "iopub.execute_input": "2024-02-05T23:16:24.280782Z",
     "iopub.status.idle": "2024-02-05T23:16:24.439216Z",
     "shell.execute_reply.started": "2024-02-05T23:16:24.280735Z",
     "shell.execute_reply": "2024-02-05T23:16:24.437834Z"
    },
    "trusted": true,
    "pycharm": {
     "name": "#%%\n"
    }
   },
   "execution_count": 5,
   "outputs": [
    {
     "execution_count": 5,
     "output_type": "execute_result",
     "data": {
      "text/plain": "                                                    rup  \\\n0                                    teoria și practica   \n1     sănt îndoauă învețuri, cari si amintă mași cu ...   \n2     ași zbura unoară un auș cu minte, cătră-ndoi t...   \n3     ca s-lă da s-achicăsească ți va dzîșu pîn aua,...   \n4     un amiră cu multe dhrăñi în cap și alăgat căt ...   \n...                                                 ...   \n2106  vimtul lișor lă hărisi fața... și-l'i plîmse.....   \n2107  hoara s-avea umplută di luñină. dina cu vira ș...   \n2108  la boațea aistă, hoara arăsuna jilos... și-apo...   \n2109  vira s-turnă acasă... cîntă, arăse... s-alăxi ...   \n2110                          mărata feată, eara zurlă.   \n\n                                                rup_std  \\\n0                                    teoria și practica   \n1     sănt îndoauă învețuri, cari si amintă mași cu ...   \n2     ași zbura unoară un auș cu minte, cătră-ndoi t...   \n3     ca s-lă da s-achicăsească ți va d̦îșu pîn aua,...   \n4     un amiră cu multe dhrăńi în cap și alăgat căt ...   \n...                                                 ...   \n2106  vimtul lișor lă hărisi fața... și-ľi plîmse......   \n2107  hoara s-avea umplută di luńină. dina cu vira ș...   \n2108  la boațea aistă, hoara arăsuna jilos... și-apo...   \n2109  vira s-turnă acasă... cîntă, arăse... s-alăxi ...   \n2110                          mărata feată, eara zurlă.   \n\n                                                rup_cun  \\\n0                                   teoria shi practica   \n1     sãnt ãndoauã ãnvetsuri, cari si amintã mashi c...   \n2     ashi zbura unoarã un aush cu minte, cãtrã-ndoi...   \n3     ca s-lã da s-achicãseascã tsi va dzãshu pãn au...   \n4     un amirã cu multe dhrãnji ãn cap shi alãgat cã...   \n...                                                 ...   \n2106  vimtul lishor lã hãrisi fatsa... shi-lji plãms...   \n2107  hoara s-avea umplutã di lunjinã. dina cu vira ...   \n2108  la boatsea aistã, hoara arãsuna jilos... shi-a...   \n2109  vira s-turnã acasã... cãntã, arãse... s-alãxi ...   \n2110                          mãrata featã, eara zurlã.   \n\n                                                     en  \\\n0                                   theory and practice   \n1     there are some skills you gain just by reading...   \n2     so said a wise old man once to young people wh...   \n3     to understand what i have told you so far, con...   \n4     some wise emperor and a wise man, not a joke s...   \n...                                                 ...   \n2106  the wind gently caressed their cheeks... it's ...   \n2107  light pours over the village. dinu and vira ar...   \n2108  at the ringing of the bell, the village rang d...   \n2109  vira returned home... singing, laughing... she...   \n2110                the girl, poor thing, had gone mad.   \n\n                                                     es  \\\n0                                     teoría y práctica   \n1     hay algunas habilidades que se adquieren con s...   \n2     así se lo dijo una vez un viejo sabio a unos j...   \n3     para comprender lo que te he dicho hasta ahora...   \n4     algún sabio emperador -y un sabio, no un chist...   \n...                                                 ...   \n2106  el viento acariciaba suavemente sus mejillas.....   \n2107  la luz se derrama sobre la aldea. dinu y vira ...   \n2108  al toque de campana, el pueblo sonó desierto.....   \n2109  vira volvió a casa... cantando, riendo... se p...   \n2110         la chica, pobrecita, se había vuelto loca.   \n\n                                                     fr  \n0                                   théorie et pratique  \n1     il y a des compétences que l'on acquiert simpl...  \n2     c'est ce qu'a dit un jour un vieux sage à des ...  \n3     pour comprendre ce que je vous ai dit jusqu'à ...  \n4     un sage empereur et un sage, ce n'est pas une ...  \n...                                                 ...  \n2106  le vent caresse doucement leurs joues... c'est...  \n2107  la lumière se répand sur le village. dinu et v...  \n2108  au son de la cloche, le village retentit déser...  \n2109  vira est rentrée chez elle... elle chante, ell...  \n2110               la pauvre fille était devenue folle.  \n\n[2111 rows x 6 columns]",
      "text/html": "<div>\n<style scoped>\n    .dataframe tbody tr th:only-of-type {\n        vertical-align: middle;\n    }\n\n    .dataframe tbody tr th {\n        vertical-align: top;\n    }\n\n    .dataframe thead th {\n        text-align: right;\n    }\n</style>\n<table border=\"1\" class=\"dataframe\">\n  <thead>\n    <tr style=\"text-align: right;\">\n      <th></th>\n      <th>rup</th>\n      <th>rup_std</th>\n      <th>rup_cun</th>\n      <th>en</th>\n      <th>es</th>\n      <th>fr</th>\n    </tr>\n  </thead>\n  <tbody>\n    <tr>\n      <th>0</th>\n      <td>teoria și practica</td>\n      <td>teoria și practica</td>\n      <td>teoria shi practica</td>\n      <td>theory and practice</td>\n      <td>teoría y práctica</td>\n      <td>théorie et pratique</td>\n    </tr>\n    <tr>\n      <th>1</th>\n      <td>sănt îndoauă învețuri, cari si amintă mași cu ...</td>\n      <td>sănt îndoauă învețuri, cari si amintă mași cu ...</td>\n      <td>sãnt ãndoauã ãnvetsuri, cari si amintã mashi c...</td>\n      <td>there are some skills you gain just by reading...</td>\n      <td>hay algunas habilidades que se adquieren con s...</td>\n      <td>il y a des compétences que l'on acquiert simpl...</td>\n    </tr>\n    <tr>\n      <th>2</th>\n      <td>ași zbura unoară un auș cu minte, cătră-ndoi t...</td>\n      <td>ași zbura unoară un auș cu minte, cătră-ndoi t...</td>\n      <td>ashi zbura unoarã un aush cu minte, cãtrã-ndoi...</td>\n      <td>so said a wise old man once to young people wh...</td>\n      <td>así se lo dijo una vez un viejo sabio a unos j...</td>\n      <td>c'est ce qu'a dit un jour un vieux sage à des ...</td>\n    </tr>\n    <tr>\n      <th>3</th>\n      <td>ca s-lă da s-achicăsească ți va dzîșu pîn aua,...</td>\n      <td>ca s-lă da s-achicăsească ți va d̦îșu pîn aua,...</td>\n      <td>ca s-lã da s-achicãseascã tsi va dzãshu pãn au...</td>\n      <td>to understand what i have told you so far, con...</td>\n      <td>para comprender lo que te he dicho hasta ahora...</td>\n      <td>pour comprendre ce que je vous ai dit jusqu'à ...</td>\n    </tr>\n    <tr>\n      <th>4</th>\n      <td>un amiră cu multe dhrăñi în cap și alăgat căt ...</td>\n      <td>un amiră cu multe dhrăńi în cap și alăgat căt ...</td>\n      <td>un amirã cu multe dhrãnji ãn cap shi alãgat cã...</td>\n      <td>some wise emperor and a wise man, not a joke s...</td>\n      <td>algún sabio emperador -y un sabio, no un chist...</td>\n      <td>un sage empereur et un sage, ce n'est pas une ...</td>\n    </tr>\n    <tr>\n      <th>...</th>\n      <td>...</td>\n      <td>...</td>\n      <td>...</td>\n      <td>...</td>\n      <td>...</td>\n      <td>...</td>\n    </tr>\n    <tr>\n      <th>2106</th>\n      <td>vimtul lișor lă hărisi fața... și-l'i plîmse.....</td>\n      <td>vimtul lișor lă hărisi fața... și-ľi plîmse......</td>\n      <td>vimtul lishor lã hãrisi fatsa... shi-lji plãms...</td>\n      <td>the wind gently caressed their cheeks... it's ...</td>\n      <td>el viento acariciaba suavemente sus mejillas.....</td>\n      <td>le vent caresse doucement leurs joues... c'est...</td>\n    </tr>\n    <tr>\n      <th>2107</th>\n      <td>hoara s-avea umplută di luñină. dina cu vira ș...</td>\n      <td>hoara s-avea umplută di luńină. dina cu vira ș...</td>\n      <td>hoara s-avea umplutã di lunjinã. dina cu vira ...</td>\n      <td>light pours over the village. dinu and vira ar...</td>\n      <td>la luz se derrama sobre la aldea. dinu y vira ...</td>\n      <td>la lumière se répand sur le village. dinu et v...</td>\n    </tr>\n    <tr>\n      <th>2108</th>\n      <td>la boațea aistă, hoara arăsuna jilos... și-apo...</td>\n      <td>la boațea aistă, hoara arăsuna jilos... și-apo...</td>\n      <td>la boatsea aistã, hoara arãsuna jilos... shi-a...</td>\n      <td>at the ringing of the bell, the village rang d...</td>\n      <td>al toque de campana, el pueblo sonó desierto.....</td>\n      <td>au son de la cloche, le village retentit déser...</td>\n    </tr>\n    <tr>\n      <th>2109</th>\n      <td>vira s-turnă acasă... cîntă, arăse... s-alăxi ...</td>\n      <td>vira s-turnă acasă... cîntă, arăse... s-alăxi ...</td>\n      <td>vira s-turnã acasã... cãntã, arãse... s-alãxi ...</td>\n      <td>vira returned home... singing, laughing... she...</td>\n      <td>vira volvió a casa... cantando, riendo... se p...</td>\n      <td>vira est rentrée chez elle... elle chante, ell...</td>\n    </tr>\n    <tr>\n      <th>2110</th>\n      <td>mărata feată, eara zurlă.</td>\n      <td>mărata feată, eara zurlă.</td>\n      <td>mãrata featã, eara zurlã.</td>\n      <td>the girl, poor thing, had gone mad.</td>\n      <td>la chica, pobrecita, se había vuelto loca.</td>\n      <td>la pauvre fille était devenue folle.</td>\n    </tr>\n  </tbody>\n</table>\n<p>2111 rows × 6 columns</p>\n</div>"
     },
     "metadata": {}
    }
   ]
  },
  {
   "cell_type": "code",
   "source": [
    "data = []\n",
    "for language in translations_df.columns:\n",
    "    for text in translations_df[language]:\n",
    "        data.append({'text': text, 'language': language})\n",
    "language_data = pd.DataFrame(data)\n",
    "language_data"
   ],
   "metadata": {
    "execution": {
     "iopub.status.busy": "2024-02-05T23:16:49.049595Z",
     "iopub.execute_input": "2024-02-05T23:16:49.050233Z",
     "iopub.status.idle": "2024-02-05T23:16:49.103025Z",
     "shell.execute_reply.started": "2024-02-05T23:16:49.050188Z",
     "shell.execute_reply": "2024-02-05T23:16:49.101370Z"
    },
    "trusted": true,
    "pycharm": {
     "name": "#%%\n"
    }
   },
   "execution_count": 10,
   "outputs": [
    {
     "execution_count": 10,
     "output_type": "execute_result",
     "data": {
      "text/plain": "                                                    text language\n0                                     teoria și practica      rup\n1      sănt îndoauă învețuri, cari si amintă mași cu ...      rup\n2      ași zbura unoară un auș cu minte, cătră-ndoi t...      rup\n3      ca s-lă da s-achicăsească ți va dzîșu pîn aua,...      rup\n4      un amiră cu multe dhrăñi în cap și alăgat căt ...      rup\n...                                                  ...      ...\n12661  le vent caresse doucement leurs joues... c'est...       fr\n12662  la lumière se répand sur le village. dinu et v...       fr\n12663  au son de la cloche, le village retentit déser...       fr\n12664  vira est rentrée chez elle... elle chante, ell...       fr\n12665               la pauvre fille était devenue folle.       fr\n\n[12666 rows x 2 columns]",
      "text/html": "<div>\n<style scoped>\n    .dataframe tbody tr th:only-of-type {\n        vertical-align: middle;\n    }\n\n    .dataframe tbody tr th {\n        vertical-align: top;\n    }\n\n    .dataframe thead th {\n        text-align: right;\n    }\n</style>\n<table border=\"1\" class=\"dataframe\">\n  <thead>\n    <tr style=\"text-align: right;\">\n      <th></th>\n      <th>text</th>\n      <th>language</th>\n    </tr>\n  </thead>\n  <tbody>\n    <tr>\n      <th>0</th>\n      <td>teoria și practica</td>\n      <td>rup</td>\n    </tr>\n    <tr>\n      <th>1</th>\n      <td>sănt îndoauă învețuri, cari si amintă mași cu ...</td>\n      <td>rup</td>\n    </tr>\n    <tr>\n      <th>2</th>\n      <td>ași zbura unoară un auș cu minte, cătră-ndoi t...</td>\n      <td>rup</td>\n    </tr>\n    <tr>\n      <th>3</th>\n      <td>ca s-lă da s-achicăsească ți va dzîșu pîn aua,...</td>\n      <td>rup</td>\n    </tr>\n    <tr>\n      <th>4</th>\n      <td>un amiră cu multe dhrăñi în cap și alăgat căt ...</td>\n      <td>rup</td>\n    </tr>\n    <tr>\n      <th>...</th>\n      <td>...</td>\n      <td>...</td>\n    </tr>\n    <tr>\n      <th>12661</th>\n      <td>le vent caresse doucement leurs joues... c'est...</td>\n      <td>fr</td>\n    </tr>\n    <tr>\n      <th>12662</th>\n      <td>la lumière se répand sur le village. dinu et v...</td>\n      <td>fr</td>\n    </tr>\n    <tr>\n      <th>12663</th>\n      <td>au son de la cloche, le village retentit déser...</td>\n      <td>fr</td>\n    </tr>\n    <tr>\n      <th>12664</th>\n      <td>vira est rentrée chez elle... elle chante, ell...</td>\n      <td>fr</td>\n    </tr>\n    <tr>\n      <th>12665</th>\n      <td>la pauvre fille était devenue folle.</td>\n      <td>fr</td>\n    </tr>\n  </tbody>\n</table>\n<p>12666 rows × 2 columns</p>\n</div>"
     },
     "metadata": {}
    }
   ]
  },
  {
   "cell_type": "code",
   "source": [
    "X_train, X_test, y_train, y_test = train_test_split(language_data['text'], language_data['language'], test_size=0.2, random_state=42)"
   ],
   "metadata": {
    "execution": {
     "iopub.status.busy": "2024-02-05T23:16:51.520456Z",
     "iopub.execute_input": "2024-02-05T23:16:51.521086Z",
     "iopub.status.idle": "2024-02-05T23:16:51.535144Z",
     "shell.execute_reply.started": "2024-02-05T23:16:51.521032Z",
     "shell.execute_reply": "2024-02-05T23:16:51.533723Z"
    },
    "trusted": true,
    "pycharm": {
     "name": "#%%\n"
    }
   },
   "execution_count": 11,
   "outputs": []
  },
  {
   "cell_type": "code",
   "source": [
    "tfidf_vectorizer = TfidfVectorizer()\n",
    "X_train_tfidf = tfidf_vectorizer.fit_transform(X_train)\n",
    "X_test_tfidf = tfidf_vectorizer.transform(X_test)"
   ],
   "metadata": {
    "execution": {
     "iopub.status.busy": "2024-02-05T23:16:52.975940Z",
     "iopub.execute_input": "2024-02-05T23:16:52.976612Z",
     "iopub.status.idle": "2024-02-05T23:16:53.768546Z",
     "shell.execute_reply.started": "2024-02-05T23:16:52.976562Z",
     "shell.execute_reply": "2024-02-05T23:16:53.767303Z"
    },
    "trusted": true,
    "pycharm": {
     "name": "#%%\n"
    }
   },
   "execution_count": 12,
   "outputs": []
  },
  {
   "cell_type": "code",
   "source": [
    "model = LogisticRegression(max_iter=5000)\n",
    "model.fit(X_train_tfidf, y_train)"
   ],
   "metadata": {
    "execution": {
     "iopub.status.busy": "2024-02-05T23:16:55.568078Z",
     "iopub.execute_input": "2024-02-05T23:16:55.568555Z",
     "iopub.status.idle": "2024-02-05T23:17:07.266212Z",
     "shell.execute_reply.started": "2024-02-05T23:16:55.568519Z",
     "shell.execute_reply": "2024-02-05T23:17:07.264182Z"
    },
    "trusted": true,
    "pycharm": {
     "name": "#%%\n"
    }
   },
   "execution_count": 13,
   "outputs": [
    {
     "execution_count": 13,
     "output_type": "execute_result",
     "data": {
      "text/plain": "LogisticRegression(max_iter=5000)",
      "text/html": "<style>#sk-container-id-2 {color: black;background-color: white;}#sk-container-id-2 pre{padding: 0;}#sk-container-id-2 div.sk-toggleable {background-color: white;}#sk-container-id-2 label.sk-toggleable__label {cursor: pointer;display: block;width: 100%;margin-bottom: 0;padding: 0.3em;box-sizing: border-box;text-align: center;}#sk-container-id-2 label.sk-toggleable__label-arrow:before {content: \"▸\";float: left;margin-right: 0.25em;color: #696969;}#sk-container-id-2 label.sk-toggleable__label-arrow:hover:before {color: black;}#sk-container-id-2 div.sk-estimator:hover label.sk-toggleable__label-arrow:before {color: black;}#sk-container-id-2 div.sk-toggleable__content {max-height: 0;max-width: 0;overflow: hidden;text-align: left;background-color: #f0f8ff;}#sk-container-id-2 div.sk-toggleable__content pre {margin: 0.2em;color: black;border-radius: 0.25em;background-color: #f0f8ff;}#sk-container-id-2 input.sk-toggleable__control:checked~div.sk-toggleable__content {max-height: 200px;max-width: 100%;overflow: auto;}#sk-container-id-2 input.sk-toggleable__control:checked~label.sk-toggleable__label-arrow:before {content: \"▾\";}#sk-container-id-2 div.sk-estimator input.sk-toggleable__control:checked~label.sk-toggleable__label {background-color: #d4ebff;}#sk-container-id-2 div.sk-label input.sk-toggleable__control:checked~label.sk-toggleable__label {background-color: #d4ebff;}#sk-container-id-2 input.sk-hidden--visually {border: 0;clip: rect(1px 1px 1px 1px);clip: rect(1px, 1px, 1px, 1px);height: 1px;margin: -1px;overflow: hidden;padding: 0;position: absolute;width: 1px;}#sk-container-id-2 div.sk-estimator {font-family: monospace;background-color: #f0f8ff;border: 1px dotted black;border-radius: 0.25em;box-sizing: border-box;margin-bottom: 0.5em;}#sk-container-id-2 div.sk-estimator:hover {background-color: #d4ebff;}#sk-container-id-2 div.sk-parallel-item::after {content: \"\";width: 100%;border-bottom: 1px solid gray;flex-grow: 1;}#sk-container-id-2 div.sk-label:hover label.sk-toggleable__label {background-color: #d4ebff;}#sk-container-id-2 div.sk-serial::before {content: \"\";position: absolute;border-left: 1px solid gray;box-sizing: border-box;top: 0;bottom: 0;left: 50%;z-index: 0;}#sk-container-id-2 div.sk-serial {display: flex;flex-direction: column;align-items: center;background-color: white;padding-right: 0.2em;padding-left: 0.2em;position: relative;}#sk-container-id-2 div.sk-item {position: relative;z-index: 1;}#sk-container-id-2 div.sk-parallel {display: flex;align-items: stretch;justify-content: center;background-color: white;position: relative;}#sk-container-id-2 div.sk-item::before, #sk-container-id-2 div.sk-parallel-item::before {content: \"\";position: absolute;border-left: 1px solid gray;box-sizing: border-box;top: 0;bottom: 0;left: 50%;z-index: -1;}#sk-container-id-2 div.sk-parallel-item {display: flex;flex-direction: column;z-index: 1;position: relative;background-color: white;}#sk-container-id-2 div.sk-parallel-item:first-child::after {align-self: flex-end;width: 50%;}#sk-container-id-2 div.sk-parallel-item:last-child::after {align-self: flex-start;width: 50%;}#sk-container-id-2 div.sk-parallel-item:only-child::after {width: 0;}#sk-container-id-2 div.sk-dashed-wrapped {border: 1px dashed gray;margin: 0 0.4em 0.5em 0.4em;box-sizing: border-box;padding-bottom: 0.4em;background-color: white;}#sk-container-id-2 div.sk-label label {font-family: monospace;font-weight: bold;display: inline-block;line-height: 1.2em;}#sk-container-id-2 div.sk-label-container {text-align: center;}#sk-container-id-2 div.sk-container {/* jupyter's `normalize.less` sets `[hidden] { display: none; }` but bootstrap.min.css set `[hidden] { display: none !important; }` so we also need the `!important` here to be able to override the default hidden behavior on the sphinx rendered scikit-learn.org. See: https://github.com/scikit-learn/scikit-learn/issues/21755 */display: inline-block !important;position: relative;}#sk-container-id-2 div.sk-text-repr-fallback {display: none;}</style><div id=\"sk-container-id-2\" class=\"sk-top-container\"><div class=\"sk-text-repr-fallback\"><pre>LogisticRegression(max_iter=5000)</pre><b>In a Jupyter environment, please rerun this cell to show the HTML representation or trust the notebook. <br />On GitHub, the HTML representation is unable to render, please try loading this page with nbviewer.org.</b></div><div class=\"sk-container\" hidden><div class=\"sk-item\"><div class=\"sk-estimator sk-toggleable\"><input class=\"sk-toggleable__control sk-hidden--visually\" id=\"sk-estimator-id-2\" type=\"checkbox\" checked><label for=\"sk-estimator-id-2\" class=\"sk-toggleable__label sk-toggleable__label-arrow\">LogisticRegression</label><div class=\"sk-toggleable__content\"><pre>LogisticRegression(max_iter=5000)</pre></div></div></div></div></div>"
     },
     "metadata": {}
    }
   ]
  },
  {
   "cell_type": "code",
   "source": [
    "y_pred = model.predict(X_test_tfidf)\n",
    "print(\"Accuracy:\", accuracy_score(y_test, y_pred))\n",
    "print(classification_report(y_test, y_pred))"
   ],
   "metadata": {
    "execution": {
     "iopub.status.busy": "2024-02-05T23:17:09.352350Z",
     "iopub.execute_input": "2024-02-05T23:17:09.352798Z",
     "iopub.status.idle": "2024-02-05T23:17:09.497654Z",
     "shell.execute_reply.started": "2024-02-05T23:17:09.352768Z",
     "shell.execute_reply": "2024-02-05T23:17:09.495040Z"
    },
    "trusted": true,
    "pycharm": {
     "name": "#%%\n"
    }
   },
   "execution_count": 14,
   "outputs": [
    {
     "name": "stdout",
     "text": "Accuracy: 0.8681925808997633\n              precision    recall  f1-score   support\n\n          en       1.00      0.97      0.99       418\n          es       0.96      0.98      0.97       436\n          fr       0.99      0.97      0.98       375\n         rup       0.64      0.73      0.68       421\n     rup_cun       0.94      0.93      0.94       431\n     rup_std       0.73      0.64      0.68       453\n\n    accuracy                           0.87      2534\n   macro avg       0.87      0.87      0.87      2534\nweighted avg       0.87      0.87      0.87      2534\n\n",
     "output_type": "stream"
    }
   ]
  },
  {
   "cell_type": "code",
   "source": [
    "class TranslationModel:\n",
    "    def __init__(self, model_path, source_lang_code, source_language, target_lang_code='ro', target_language='Romanian'):\n",
    "        self.source_lang_code = source_lang_code\n",
    "        self.source_language = source_language\n",
    "        \n",
    "        self.target_lang_code = target_lang_code\n",
    "        self.target_language = target_language\n",
    "        \n",
    "        self.model_path = model_path \n",
    "        self.model = T5ForConditionalGeneration.from_pretrained(self.model_path)\n",
    "        self.tokenizer = T5Tokenizer.from_pretrained(self.model_path)\n",
    "\n",
    "        self.language_map = {\n",
    "            'ro': 'ro',\n",
    "            'rup': 'ro',  \n",
    "            'rup_std': 'ro',  \n",
    "            'rup_cun': 'ro',\n",
    "            'en': 'en',\n",
    "            'es': 'es',\n",
    "            'fr': 'fr'\n",
    "        }\n",
    "        \n",
    "        self.replace_nonprint = self.__get_non_printing_char_replacer(\"\")\n",
    "        \n",
    "    def __get_non_printing_char_replacer(self, replace_by: str = \" \"):\n",
    "        non_printable_map = {\n",
    "            ord(c): replace_by\n",
    "            for c in (chr(i) for i in range(sys.maxunicode + 1))\n",
    "            if unicodedata.category(c) in {\"C\", \"Cc\", \"Cf\", \"Cs\", \"Co\", \"Cn\"}\n",
    "        }\n",
    "\n",
    "        def replace_non_printing_char(text) -> str:\n",
    "            return text.translate(non_printable_map)\n",
    "\n",
    "        return replace_non_printing_char\n",
    "    \n",
    "    def __process_text(self, text):\n",
    "        mpn = MosesPunctNormalizer(lang=self.language_map[self.source_lang_code])\n",
    "        mpn.substitutions = [(re.compile(r), sub) for r, sub in mpn.substitutions]\n",
    "\n",
    "        clean = mpn.normalize(text)\n",
    "        clean = self.replace_nonprint(clean)\n",
    "        # ex: replace '𝓕𝔯𝔞𝔫𝔠𝔢𝔰𝔠𝔞' with 'Francesca'\n",
    "        clean = unicodedata.normalize(\"NFKC\", clean)\n",
    "        clean = clean.replace('\"', '').replace(' - ', ' ')\n",
    "        clean = clean.strip()\n",
    "\n",
    "        return clean\n",
    "        \n",
    "        \n",
    "    def translate(self, text):\n",
    "        text = self.__process_text(text)\n",
    "        \n",
    "        prefix = f\"translate {self.source_language} to {self.target_language}: \"\n",
    "        \n",
    "        input_ids = self.tokenizer(prefix + text, return_tensors=\"pt\").input_ids\n",
    "        output_ids = self.model.generate(input_ids=input_ids)\n",
    "        output = self.tokenizer.decode(output_ids[0], skip_special_tokens=True)\n",
    "        \n",
    "        return output"
   ],
   "metadata": {
    "execution": {
     "iopub.status.busy": "2024-02-05T23:49:30.173438Z",
     "iopub.execute_input": "2024-02-05T23:49:30.173942Z",
     "iopub.status.idle": "2024-02-05T23:49:30.192679Z",
     "shell.execute_reply.started": "2024-02-05T23:49:30.173904Z",
     "shell.execute_reply": "2024-02-05T23:49:30.191240Z"
    },
    "trusted": true,
    "pycharm": {
     "name": "#%%\n"
    }
   },
   "execution_count": 25,
   "outputs": []
  },
  {
   "cell_type": "code",
   "source": [
    "translation_models = {\n",
    "    'rup': TranslationModel(T5_RUP_RO_PATH, 'rup', 'Aromanian General Dialect'), \n",
    "    'rup_std': TranslationModel(T5_RUP_RO_PATH, 'rup_std', 'Aromanian Standard Dialect'),\n",
    "    'rup_cun': TranslationModel(T5_RUP_CON_RO_PATH, 'rup_cun', 'Aromanian Regional Dialect'),\n",
    "    'en': TranslationModel(T5_EN_RO_PATH, 'en', 'English'),\n",
    "    'es': TranslationModel(T5_ES_RO_PATH, 'es', 'Spanish'),\n",
    "    'fr': TranslationModel(T5_ES_RO_PATH, 'es', 'French'),\n",
    "}"
   ],
   "metadata": {
    "execution": {
     "iopub.status.busy": "2024-02-05T23:49:35.805257Z",
     "iopub.execute_input": "2024-02-05T23:49:35.805764Z",
     "iopub.status.idle": "2024-02-05T23:49:45.670421Z",
     "shell.execute_reply.started": "2024-02-05T23:49:35.805725Z",
     "shell.execute_reply": "2024-02-05T23:49:45.669135Z"
    },
    "trusted": true,
    "pycharm": {
     "name": "#%%\n"
    }
   },
   "execution_count": 26,
   "outputs": [
    {
     "name": "stderr",
     "text": "Special tokens have been added in the vocabulary, make sure the associated word embeddings are fine-tuned or trained.\nSpecial tokens have been added in the vocabulary, make sure the associated word embeddings are fine-tuned or trained.\nSpecial tokens have been added in the vocabulary, make sure the associated word embeddings are fine-tuned or trained.\nSpecial tokens have been added in the vocabulary, make sure the associated word embeddings are fine-tuned or trained.\nSpecial tokens have been added in the vocabulary, make sure the associated word embeddings are fine-tuned or trained.\nSpecial tokens have been added in the vocabulary, make sure the associated word embeddings are fine-tuned or trained.\n",
     "output_type": "stream"
    }
   ]
  },
  {
   "cell_type": "code",
   "source": [
    "while True:\n",
    "    text_input = input(\"Input: \")\n",
    "    text_tfidf = tfidf_vectorizer.transform([text_input])\n",
    "    lang_predict = model.predict(text_tfidf)[0]\n",
    "    print(f\"-> Language predicted: {DATA_LANGUAGES[lang_predict]} [{lang_predict}]\")\n",
    "    translation = translation_models[lang_predict].translate(text_input)\n",
    "    print(f\"-> Translation: {translation} \\n\")"
   ],
   "metadata": {
    "execution": {
     "iopub.status.busy": "2024-02-05T23:49:50.096043Z",
     "iopub.execute_input": "2024-02-05T23:49:50.096526Z"
    },
    "trusted": true,
    "pycharm": {
     "name": "#%%\n"
    }
   },
   "execution_count": null,
   "outputs": [
    {
     "output_type": "stream",
     "name": "stdin",
     "text": "Input:  Shi lu-avdzã Dumnidzãlu!\n"
    },
    {
     "name": "stdout",
     "text": "-> Language predicted: Aromanian Regional Dialect [rup_cun]\n-> Translation: și îl așteaptă pe dumnezeu! \n\n",
     "output_type": "stream"
    },
    {
     "output_type": "stream",
     "name": "stdin",
     "text": "Input:  Ațea de-aeri, țe-ńi d̦îțeai!\n"
    },
    {
     "name": "stdout",
     "text": "-> Language predicted: Aromanian Standard Dialect [rup_std]\n-> Translation: a fost de-aia, ce-mi zise! \n\n",
     "output_type": "stream"
    },
    {
     "output_type": "stream",
     "name": "stdin",
     "text": "Input:  Cățe, tată, tut uhted̦, plînd̦î și stai învirinat?\n"
    },
    {
     "name": "stdout",
     "text": "-> Language predicted: Aromanian Standard Dialect [rup_std]\n-> Translation: tată, tot uită, plânse și stai învir \n\n",
     "output_type": "stream"
    },
    {
     "output_type": "stream",
     "name": "stdin",
     "text": "Input:  Cum s-facă ș-cum s-îndreagă? \n"
    },
    {
     "name": "stdout",
     "text": "-> Language predicted: Aromanian General Dialect [rup]\n-> Translation: cum să faci și cum să ne întoarse? \n\n",
     "output_type": "stream"
    },
    {
     "output_type": "stream",
     "name": "stdin",
     "text": "Input:  Era ună oară ș-un chiro un ficior, cu numa Andrei\n"
    },
    {
     "name": "stdout",
     "text": "-> Language predicted: Aromanian General Dialect [rup]\n-> Translation: a fost o dată și un fecior, cu nume Andrei \n\n",
     "output_type": "stream"
    },
    {
     "output_type": "stream",
     "name": "stdin",
     "text": "Input:  They seized him too and sent him to the other world\n"
    },
    {
     "name": "stdout",
     "text": "-> Language predicted: English [en]\n-> Translation: l-au omorât și ei și l-au trimis \n\n",
     "output_type": "stream"
    },
    {
     "output_type": "stream",
     "name": "stdin",
     "text": "Input:  ¿CÓMO ES QUE NO SON GITANOS?\n"
    },
    {
     "name": "stdout",
     "text": "-> Language predicted: Spanish [es]\n-> Translation: cum e de ce n-am știre de ea? \n\n",
     "output_type": "stream"
    },
    {
     "output_type": "stream",
     "name": "stdin",
     "text": "Input:  Mettez-moi des ailes, comme un cerf-volant \n"
    },
    {
     "name": "stdout",
     "text": "-> Language predicted: French [fr]\n-> Translation: te-mi duci de aile, ca un cerf \n\n",
     "output_type": "stream"
    }
   ]
  },
  {
   "cell_type": "code",
   "source": [],
   "metadata": {
    "pycharm": {
     "name": "#%%\n"
    }
   },
   "execution_count": null,
   "outputs": []
  }
 ]
}