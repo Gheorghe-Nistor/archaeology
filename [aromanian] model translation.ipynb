{
 "metadata": {
  "kernelspec": {
   "language": "python",
   "display_name": "Python 3",
   "name": "python3"
  },
  "language_info": {
   "name": "python",
   "version": "3.10.12",
   "mimetype": "text/x-python",
   "codemirror_mode": {
    "name": "ipython",
    "version": 3
   },
   "pygments_lexer": "ipython3",
   "nbconvert_exporter": "python",
   "file_extension": ".py"
  },
  "kaggle": {
   "accelerator": "nvidiaTeslaT4",
   "dataSources": [
    {
     "sourceId": 7563434,
     "sourceType": "datasetVersion",
     "datasetId": 4404044
    }
   ],
   "dockerImageVersionId": 30635,
   "isInternetEnabled": true,
   "language": "python",
   "sourceType": "notebook",
   "isGpuEnabled": true
  }
 },
 "nbformat_minor": 4,
 "nbformat": 4,
 "cells": [
  {
   "cell_type": "code",
   "source": [
    "import os\n",
    "import re\n",
    "import sys\n",
    "import torch\n",
    "import sentencepiece\n",
    "import pandas as pd\n",
    "from tqdm.auto import tqdm, trange\n",
    "from datasets import Dataset\n",
    "from transformers import T5ForConditionalGeneration, T5Tokenizer, Trainer, TrainingArguments"
   ],
   "metadata": {
    "trusted": true,
    "pycharm": {
     "name": "#%%\n"
    }
   },
   "execution_count": null,
   "outputs": []
  },
  {
   "cell_type": "code",
   "source": [
    "FOLDER_PATH = '/kaggle/input/aromanian/'\n",
    "FILE_NAME = 'Tales_processed.csv'\n",
    "DATA_LANGUAGES = {\n",
    "    'ro': 'Romanian',\n",
    "    'rup': 'Aromanian General Dialect',\n",
    "    'rup_std': 'Aromanian Standard Dialect',\n",
    "    'rup_cun': 'Aromanian Regional Dialect',\n",
    "    'en': 'English',\n",
    "    'es': 'Spanish',\n",
    "    'fr': 'French'\n",
    "}"
   ],
   "metadata": {
    "trusted": true,
    "pycharm": {
     "name": "#%%\n"
    }
   },
   "execution_count": null,
   "outputs": []
  },
  {
   "cell_type": "code",
   "source": [
    "path = os.path.join(FOLDER_PATH, FILE_NAME)\n",
    "translations_df = pd.read_csv(path, index_col=[0]).drop('split', axis=1)\n",
    "translations_df"
   ],
   "metadata": {
    "trusted": true,
    "pycharm": {
     "name": "#%%\n"
    }
   },
   "execution_count": null,
   "outputs": []
  },
  {
   "cell_type": "code",
   "source": [
    "class T5FineTuning:\n",
    "    def __init__(self, translations_df, data_languages):\n",
    "        self.checkpoint = 't5-small'\n",
    "        self.tokenizer = T5Tokenizer.from_pretrained(self.checkpoint)\n",
    "        self.model = T5ForConditionalGeneration.from_pretrained(self.checkpoint)\n",
    "        self.translations_df = translations_df\n",
    "        self.data_languages = data_languages\n",
    "\n",
    "    def __tokenize(self, batch, source_lang_code, target_lang_code):\n",
    "        source_lang = self.data_languages[source_lang_code]\n",
    "        target_lang = self.data_languages[target_lang_code]\n",
    "        prefix = f\"translate {source_lang} to {target_lang}: \"\n",
    "        \n",
    "        batch[source_lang_code] = [prefix + text for text in batch[source_lang_code]]\n",
    "        \n",
    "        tokenized_input = self.tokenizer(batch[source_lang_code], padding='max_length', truncation=True, max_length=512)\n",
    "        tokenized_label = self.tokenizer(batch[target_lang_code], padding='max_length', truncation=True, max_length=512)\n",
    "        tokenized_input['labels'] = tokenized_label['input_ids']\n",
    "        \n",
    "        return tokenized_input\n",
    "\n",
    "    def fine_tunig(self, source_lang_code, target_lang_code='ro'):\n",
    "        print(f\"translate {source_lang_code} to {target_lang_code}\")\n",
    "        \n",
    "        temp_df = translations_df[[source_lang_code, target_lang_code]].copy()\n",
    "        dataset = Dataset.from_dict(temp_df)\n",
    "        split_datasets = dataset.train_test_split(test_size=0.1)\n",
    "        \n",
    "        tokenized_train = split_datasets['train'].map(lambda batch: self.__tokenize(batch, source_lang_code, target_lang_code), batched=True)\n",
    "        tokenized_test = split_datasets['test'].map(lambda batch: self.__tokenize(batch, source_lang_code, target_lang_code), batched=True)\n",
    "        \n",
    "        training_args = TrainingArguments(\n",
    "            output_dir='./results',\n",
    "            num_train_epochs=30,\n",
    "            per_device_train_batch_size=8,  \n",
    "            per_device_eval_batch_size=8, \n",
    "            learning_rate=2e-4,\n",
    "            weight_decay=0.02,\n",
    "            gradient_accumulation_steps=2, \n",
    "            evaluation_strategy=\"epoch\", \n",
    "        )\n",
    "        \n",
    "        trainer = Trainer(\n",
    "            model=self.model,\n",
    "            args=training_args,\n",
    "            train_dataset=tokenized_train,\n",
    "            eval_dataset=tokenized_test\n",
    "        )\n",
    "        \n",
    "        trainer.train()\n",
    "        \n",
    "        model_location = f'./{source_lang_code}-{target_lang_code}-checkpoint-v1'\n",
    "        \n",
    "        self.model.save_pretrained(model_location)\n",
    "        self.tokenizer.save_pretrained(model_location)\n",
    "        \n",
    "        return model_location"
   ],
   "metadata": {
    "trusted": true,
    "pycharm": {
     "name": "#%%\n"
    }
   },
   "execution_count": null,
   "outputs": []
  },
  {
   "cell_type": "code",
   "source": [
    "t5_fine_tuning = T5FineTuning(translations_df, DATA_LANGUAGES)"
   ],
   "metadata": {
    "trusted": true,
    "pycharm": {
     "name": "#%%\n"
    }
   },
   "execution_count": null,
   "outputs": []
  },
  {
   "cell_type": "code",
   "source": [
    "for language in DATA_LANGUAGES.keys():\n",
    "    if language == \"ro\":\n",
    "        continue\n",
    "    print(language)\n",
    "    t5_fine_tuning.fine_tunig(language)"
   ],
   "metadata": {
    "trusted": true,
    "pycharm": {
     "name": "#%%\n"
    }
   },
   "execution_count": null,
   "outputs": []
  }
 ]
}