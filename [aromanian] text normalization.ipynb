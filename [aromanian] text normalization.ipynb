{
 "metadata": {
  "kernelspec": {
   "language": "python",
   "display_name": "Python 3",
   "name": "python3"
  },
  "language_info": {
   "name": "python",
   "version": "3.10.13",
   "mimetype": "text/x-python",
   "codemirror_mode": {
    "name": "ipython",
    "version": 3
   },
   "pygments_lexer": "ipython3",
   "nbconvert_exporter": "python",
   "file_extension": ".py"
  },
  "kaggle": {
   "accelerator": "none",
   "dataSources": [],
   "dockerImageVersionId": 30646,
   "isInternetEnabled": true,
   "language": "python",
   "sourceType": "notebook",
   "isGpuEnabled": false
  }
 },
 "nbformat_minor": 4,
 "nbformat": 4,
 "cells": [
  {
   "cell_type": "code",
   "source": [
    "!pip install sacremoses --q"
   ],
   "metadata": {
    "execution": {
     "iopub.status.busy": "2024-02-05T23:48:36.269823Z",
     "iopub.execute_input": "2024-02-05T23:48:36.270329Z",
     "iopub.status.idle": "2024-02-05T23:48:51.368685Z",
     "shell.execute_reply.started": "2024-02-05T23:48:36.270285Z",
     "shell.execute_reply": "2024-02-05T23:48:51.367371Z"
    },
    "trusted": true,
    "pycharm": {
     "name": "#%%\n"
    }
   },
   "execution_count": 1,
   "outputs": []
  },
  {
   "cell_type": "code",
   "source": [
    "import os\n",
    "import re\n",
    "import sys\n",
    "import unicodedata\n",
    "import pandas as pd\n",
    "from sacremoses import MosesPunctNormalizer"
   ],
   "metadata": {
    "_uuid": "8f2839f25d086af736a60e9eeb907d3b93b6e0e5",
    "_cell_guid": "b1076dfc-b9ad-4769-8c92-a6c4dae69d19",
    "execution": {
     "iopub.status.busy": "2024-02-05T16:21:50.699090Z",
     "iopub.execute_input": "2024-02-05T16:21:50.699972Z",
     "iopub.status.idle": "2024-02-05T16:21:51.525394Z",
     "shell.execute_reply.started": "2024-02-05T16:21:50.699928Z",
     "shell.execute_reply": "2024-02-05T16:21:51.524457Z"
    },
    "trusted": true,
    "pycharm": {
     "name": "#%%\n"
    }
   },
   "execution_count": 13,
   "outputs": []
  },
  {
   "cell_type": "code",
   "source": [
    "FOLDER_PATH = '/dataset/'\n",
    "FILE_NAME = 'Tales'\n",
    "DATA_SPLIT = ['train', 'valid', 'test']\n",
    "DATA_LANGUAGES  = {\n",
    "    'ro': 'Romanian',\n",
    "    'rup': 'Romanian_RUP',\n",
    "    'rup_std': 'Romanian_RUP_STD',\n",
    "    'rup_cun': 'Romanian_RUP_CUN',\n",
    "    'en': 'English',\n",
    "    'es': 'Spanish',\n",
    "    'fr': 'French'\n",
    "}"
   ],
   "metadata": {
    "execution": {
     "iopub.status.busy": "2024-02-05T16:15:41.865368Z",
     "iopub.execute_input": "2024-02-05T16:15:41.865716Z",
     "iopub.status.idle": "2024-02-05T16:15:41.871888Z",
     "shell.execute_reply.started": "2024-02-05T16:15:41.865688Z",
     "shell.execute_reply": "2024-02-05T16:15:41.870779Z"
    },
    "trusted": true,
    "pycharm": {
     "name": "#%%\n"
    }
   },
   "execution_count": 3,
   "outputs": []
  },
  {
   "cell_type": "code",
   "source": [
    "def read_file(file_path):\n",
    "    with open(file_path) as file:\n",
    "        return list(filter(lambda x: len(x), file.read().split('\\n')))"
   ],
   "metadata": {
    "execution": {
     "iopub.status.busy": "2024-02-05T16:15:45.483270Z",
     "iopub.execute_input": "2024-02-05T16:15:45.483673Z",
     "iopub.status.idle": "2024-02-05T16:15:45.489937Z",
     "shell.execute_reply.started": "2024-02-05T16:15:45.483639Z",
     "shell.execute_reply": "2024-02-05T16:15:45.488646Z"
    },
    "trusted": true,
    "pycharm": {
     "name": "#%%\n"
    }
   },
   "execution_count": 5,
   "outputs": []
  },
  {
   "cell_type": "code",
   "source": [
    "def load_language_from_file(language):\n",
    "    df = pd.DataFrame()\n",
    "    for split in DATA_SPLIT:\n",
    "        file_path = os.path.join(FOLDER_PATH, f\"{FILE_NAME}.{split}.{language}\")\n",
    "        if os.path.isfile(file_path):\n",
    "            new_df = pd.DataFrame({\n",
    "                language: read_file(file_path),\n",
    "                'split': split\n",
    "            })\n",
    "            df = pd.concat([df, new_df], ignore_index=True)\n",
    "            \n",
    "    return df"
   ],
   "metadata": {
    "execution": {
     "iopub.status.busy": "2024-02-05T16:15:46.974752Z",
     "iopub.execute_input": "2024-02-05T16:15:46.975152Z",
     "iopub.status.idle": "2024-02-05T16:15:46.983146Z",
     "shell.execute_reply.started": "2024-02-05T16:15:46.975122Z",
     "shell.execute_reply": "2024-02-05T16:15:46.981737Z"
    },
    "trusted": true,
    "pycharm": {
     "name": "#%%\n"
    }
   },
   "execution_count": 6,
   "outputs": []
  },
  {
   "cell_type": "code",
   "source": [
    "def build_translations_dataframe(languages):\n",
    "    df = pd.DataFrame()\n",
    "    for language in languages:\n",
    "        new_df = load_language_from_file(language)\n",
    "        if 'split' in df:\n",
    "            df = df.drop('split', axis=1)\n",
    "        df = pd.concat([df, new_df], axis=1)\n",
    "        \n",
    "    return df"
   ],
   "metadata": {
    "execution": {
     "iopub.status.busy": "2024-02-05T16:15:50.250415Z",
     "iopub.execute_input": "2024-02-05T16:15:50.250865Z",
     "iopub.status.idle": "2024-02-05T16:15:50.257914Z",
     "shell.execute_reply.started": "2024-02-05T16:15:50.250818Z",
     "shell.execute_reply": "2024-02-05T16:15:50.256679Z"
    },
    "trusted": true,
    "pycharm": {
     "name": "#%%\n"
    }
   },
   "execution_count": 7,
   "outputs": []
  },
  {
   "cell_type": "code",
   "source": [
    "translations_df = build_translations_dataframe(DATA_LANGUAGES.keys())\n",
    "translations_df"
   ],
   "metadata": {
    "execution": {
     "iopub.status.busy": "2024-02-05T16:39:12.968526Z",
     "iopub.execute_input": "2024-02-05T16:39:12.969248Z",
     "iopub.status.idle": "2024-02-05T16:39:13.265475Z",
     "shell.execute_reply.started": "2024-02-05T16:39:12.969215Z",
     "shell.execute_reply": "2024-02-05T16:39:13.264317Z"
    },
    "trusted": true,
    "pycharm": {
     "name": "#%%\n"
    }
   },
   "execution_count": 65,
   "outputs": [
    {
     "execution_count": 65,
     "output_type": "execute_result",
     "data": {
      "text/plain": "                                                     ro  \\\n0                                    TEORIA ȘI PRACTICA   \n1     „Sunt unele deprinderi pe care le câștigi doar...   \n2     Așa grăia într-un rând un bătrân înțelept - că...   \n3     Ca să pricepeți ce vă spusei până aici, luați ...   \n4     Cică un împărat dintre cei mai înțelepți - și ...   \n...                                                 ...   \n2106  Vântul le mângâia lin obrajii... Parcă-i căinà...   \n2107  Lumina se revarsă peste sat. Dinu și Vira stau...   \n2108  La dangătul clopotului, satul răsuna - pustiu....   \n2109  Vira se întoarse acasă... Cânta, râdea... Își ...   \n2110                     Fata, biata de ea, înnebunise.   \n\n                                                    rup  \\\n0                                    TEORIA ȘI PRACTICA   \n1     „Sănt îndoauă învețuri, cari si amintă mași cu...   \n2     Ași zbura unoară un auș cu minte, cătră-ndoi t...   \n3     Ca s-lă da s-achicăsească ți va dzîșu pîn aua,...   \n4     Un amiră cu multe dhrăñi în cap - și alăgat că...   \n...                                                 ...   \n2106  Vimtul lișor lă hărisi fața... și-l’i plîmse.....   \n2107  Hoara s-avea umplută di luñină. Dina cu Vira ș...   \n2108  La boațea aistă, hoara arăsuna jilos... și-apo...   \n2109  Vira s-turnă acasă... cîntă, arăse... s-alăxi ...   \n2110                          Mărata feată, eara zurlă.   \n\n                                                rup_std  \\\n0                                    TEORIA ȘI PRACTICA   \n1     „Sănt îndoauă învețuri, cari si amintă mași cu...   \n2     Ași zbura unoară un auș cu minte, cătră-ndoi t...   \n3     Ca s-lă da s-achicăsească ți va d̦îșu pîn aua,...   \n4     Un amiră cu multe dhrăńi în cap - și alăgat că...   \n...                                                 ...   \n2106  Vimtul lișor lă hărisi fața... și-ľi plîmse......   \n2107  Hoara s-avea umplută di luńină. Dina cu Vira ș...   \n2108  La boațea aistă, hoara arăsuna jilos... și-apo...   \n2109  Vira s-turnă acasă... cîntă, arăse... s-alăxi ...   \n2110                          Mărata feată, eara zurlă.   \n\n                                                rup_cun  \\\n0                                   TEORIA ShI PRACTICA   \n1     „Sãnt ãndoauã ãnvetsuri, cari si amintã mashi ...   \n2     Ashi zbura unoarã un aush cu minte, cãtrã-ndoi...   \n3     Ca s-lã da s-achicãseascã tsi va dzãshu pãn au...   \n4     Un amirã cu multe dhrãnji ãn cap - shi alãgat ...   \n...                                                 ...   \n2106  Vimtul lishor lã hãrisi fatsa... shi-lji plãms...   \n2107  Hoara s-avea umplutã di lunjinã. Dina cu Vira ...   \n2108  La boatsea aistã, hoara arãsuna jilos... shi-a...   \n2109  Vira s-turnã acasã... cãntã, arãse... s-alãxi ...   \n2110                          Mãrata featã, eara zurlã.   \n\n                                                     en  \\\n0                                   THEORY AND PRACTICE   \n1     \"There are some skills you gain just by readin...   \n2     So said a wise old man once - to young people ...   \n3     To understand what I have told you so far, con...   \n4     Some wise emperor - and a wise man, not a joke...   \n...                                                 ...   \n2106  The wind gently caressed their cheeks... It's ...   \n2107  Light pours over the village. Dinu and Vira ar...   \n2108  At the ringing of the bell, the village rang -...   \n2109  Vira returned home... Singing, laughing... She...   \n2110                The girl, poor thing, had gone mad.   \n\n                                                     es  \\\n0                                     TEORÍA Y PRÁCTICA   \n1     \"Hay algunas habilidades que se adquieren con ...   \n2     Así se lo dijo una vez un viejo sabio a unos j...   \n3     Para comprender lo que te he dicho hasta ahora...   \n4     Algún sabio emperador -y un sabio, no un chist...   \n...                                                 ...   \n2106  El viento acariciaba suavemente sus mejillas.....   \n2107  La luz se derrama sobre la aldea. Dinu y Vira ...   \n2108  Al toque de campana, el pueblo sonó - desierto...   \n2109  Vira volvió a casa... Cantando, riendo... Se p...   \n2110         La chica, pobrecita, se había vuelto loca.   \n\n                                                     fr  split  \n0                                   THÉORIE ET PRATIQUE  train  \n1     \"Il y a des compétences que l'on acquiert simp...  train  \n2     C'est ce qu'a dit un jour un vieux sage à des ...  train  \n3     Pour comprendre ce que je vous ai dit jusqu'à ...  train  \n4     Un sage empereur - et un sage, ce n'est pas un...  train  \n...                                                 ...    ...  \n2106  Le vent caresse doucement leurs joues... C'est...   test  \n2107  La lumière se répand sur le village. Dinu et V...   test  \n2108  Au son de la cloche, le village retentit - dés...   test  \n2109  Vira est rentrée chez elle... Elle chante, ell...   test  \n2110               La pauvre fille était devenue folle.   test  \n\n[2111 rows x 8 columns]",
      "text/html": "<div>\n<style scoped>\n    .dataframe tbody tr th:only-of-type {\n        vertical-align: middle;\n    }\n\n    .dataframe tbody tr th {\n        vertical-align: top;\n    }\n\n    .dataframe thead th {\n        text-align: right;\n    }\n</style>\n<table border=\"1\" class=\"dataframe\">\n  <thead>\n    <tr style=\"text-align: right;\">\n      <th></th>\n      <th>ro</th>\n      <th>rup</th>\n      <th>rup_std</th>\n      <th>rup_cun</th>\n      <th>en</th>\n      <th>es</th>\n      <th>fr</th>\n      <th>split</th>\n    </tr>\n  </thead>\n  <tbody>\n    <tr>\n      <th>0</th>\n      <td>TEORIA ȘI PRACTICA</td>\n      <td>TEORIA ȘI PRACTICA</td>\n      <td>TEORIA ȘI PRACTICA</td>\n      <td>TEORIA ShI PRACTICA</td>\n      <td>THEORY AND PRACTICE</td>\n      <td>TEORÍA Y PRÁCTICA</td>\n      <td>THÉORIE ET PRATIQUE</td>\n      <td>train</td>\n    </tr>\n    <tr>\n      <th>1</th>\n      <td>„Sunt unele deprinderi pe care le câștigi doar...</td>\n      <td>„Sănt îndoauă învețuri, cari si amintă mași cu...</td>\n      <td>„Sănt îndoauă învețuri, cari si amintă mași cu...</td>\n      <td>„Sãnt ãndoauã ãnvetsuri, cari si amintã mashi ...</td>\n      <td>\"There are some skills you gain just by readin...</td>\n      <td>\"Hay algunas habilidades que se adquieren con ...</td>\n      <td>\"Il y a des compétences que l'on acquiert simp...</td>\n      <td>train</td>\n    </tr>\n    <tr>\n      <th>2</th>\n      <td>Așa grăia într-un rând un bătrân înțelept - că...</td>\n      <td>Ași zbura unoară un auș cu minte, cătră-ndoi t...</td>\n      <td>Ași zbura unoară un auș cu minte, cătră-ndoi t...</td>\n      <td>Ashi zbura unoarã un aush cu minte, cãtrã-ndoi...</td>\n      <td>So said a wise old man once - to young people ...</td>\n      <td>Así se lo dijo una vez un viejo sabio a unos j...</td>\n      <td>C'est ce qu'a dit un jour un vieux sage à des ...</td>\n      <td>train</td>\n    </tr>\n    <tr>\n      <th>3</th>\n      <td>Ca să pricepeți ce vă spusei până aici, luați ...</td>\n      <td>Ca s-lă da s-achicăsească ți va dzîșu pîn aua,...</td>\n      <td>Ca s-lă da s-achicăsească ți va d̦îșu pîn aua,...</td>\n      <td>Ca s-lã da s-achicãseascã tsi va dzãshu pãn au...</td>\n      <td>To understand what I have told you so far, con...</td>\n      <td>Para comprender lo que te he dicho hasta ahora...</td>\n      <td>Pour comprendre ce que je vous ai dit jusqu'à ...</td>\n      <td>train</td>\n    </tr>\n    <tr>\n      <th>4</th>\n      <td>Cică un împărat dintre cei mai înțelepți - și ...</td>\n      <td>Un amiră cu multe dhrăñi în cap - și alăgat că...</td>\n      <td>Un amiră cu multe dhrăńi în cap - și alăgat că...</td>\n      <td>Un amirã cu multe dhrãnji ãn cap - shi alãgat ...</td>\n      <td>Some wise emperor - and a wise man, not a joke...</td>\n      <td>Algún sabio emperador -y un sabio, no un chist...</td>\n      <td>Un sage empereur - et un sage, ce n'est pas un...</td>\n      <td>train</td>\n    </tr>\n    <tr>\n      <th>...</th>\n      <td>...</td>\n      <td>...</td>\n      <td>...</td>\n      <td>...</td>\n      <td>...</td>\n      <td>...</td>\n      <td>...</td>\n      <td>...</td>\n    </tr>\n    <tr>\n      <th>2106</th>\n      <td>Vântul le mângâia lin obrajii... Parcă-i căinà...</td>\n      <td>Vimtul lișor lă hărisi fața... și-l’i plîmse.....</td>\n      <td>Vimtul lișor lă hărisi fața... și-ľi plîmse......</td>\n      <td>Vimtul lishor lã hãrisi fatsa... shi-lji plãms...</td>\n      <td>The wind gently caressed their cheeks... It's ...</td>\n      <td>El viento acariciaba suavemente sus mejillas.....</td>\n      <td>Le vent caresse doucement leurs joues... C'est...</td>\n      <td>test</td>\n    </tr>\n    <tr>\n      <th>2107</th>\n      <td>Lumina se revarsă peste sat. Dinu și Vira stau...</td>\n      <td>Hoara s-avea umplută di luñină. Dina cu Vira ș...</td>\n      <td>Hoara s-avea umplută di luńină. Dina cu Vira ș...</td>\n      <td>Hoara s-avea umplutã di lunjinã. Dina cu Vira ...</td>\n      <td>Light pours over the village. Dinu and Vira ar...</td>\n      <td>La luz se derrama sobre la aldea. Dinu y Vira ...</td>\n      <td>La lumière se répand sur le village. Dinu et V...</td>\n      <td>test</td>\n    </tr>\n    <tr>\n      <th>2108</th>\n      <td>La dangătul clopotului, satul răsuna - pustiu....</td>\n      <td>La boațea aistă, hoara arăsuna jilos... și-apo...</td>\n      <td>La boațea aistă, hoara arăsuna jilos... și-apo...</td>\n      <td>La boatsea aistã, hoara arãsuna jilos... shi-a...</td>\n      <td>At the ringing of the bell, the village rang -...</td>\n      <td>Al toque de campana, el pueblo sonó - desierto...</td>\n      <td>Au son de la cloche, le village retentit - dés...</td>\n      <td>test</td>\n    </tr>\n    <tr>\n      <th>2109</th>\n      <td>Vira se întoarse acasă... Cânta, râdea... Își ...</td>\n      <td>Vira s-turnă acasă... cîntă, arăse... s-alăxi ...</td>\n      <td>Vira s-turnă acasă... cîntă, arăse... s-alăxi ...</td>\n      <td>Vira s-turnã acasã... cãntã, arãse... s-alãxi ...</td>\n      <td>Vira returned home... Singing, laughing... She...</td>\n      <td>Vira volvió a casa... Cantando, riendo... Se p...</td>\n      <td>Vira est rentrée chez elle... Elle chante, ell...</td>\n      <td>test</td>\n    </tr>\n    <tr>\n      <th>2110</th>\n      <td>Fata, biata de ea, înnebunise.</td>\n      <td>Mărata feată, eara zurlă.</td>\n      <td>Mărata feată, eara zurlă.</td>\n      <td>Mãrata featã, eara zurlã.</td>\n      <td>The girl, poor thing, had gone mad.</td>\n      <td>La chica, pobrecita, se había vuelto loca.</td>\n      <td>La pauvre fille était devenue folle.</td>\n      <td>test</td>\n    </tr>\n  </tbody>\n</table>\n<p>2111 rows × 8 columns</p>\n</div>"
     },
     "metadata": {}
    }
   ]
  },
  {
   "cell_type": "code",
   "source": [
    "def get_non_printing_char_replacer(replace_by: str = \" \"):\n",
    "    non_printable_map = {\n",
    "        ord(c): replace_by\n",
    "        for c in (chr(i) for i in range(sys.maxunicode + 1))\n",
    "        if unicodedata.category(c) in {\"C\", \"Cc\", \"Cf\", \"Cs\", \"Co\", \"Cn\"}\n",
    "    }\n",
    "\n",
    "    def replace_non_printing_char(text) -> str:\n",
    "        return text.translate(non_printable_map)\n",
    "\n",
    "    return replace_non_printing_char\n",
    "\n",
    "replace_nonprint = get_non_printing_char_replacer(\"\")"
   ],
   "metadata": {
    "execution": {
     "iopub.status.busy": "2024-02-05T16:39:48.751173Z",
     "iopub.execute_input": "2024-02-05T16:39:48.751572Z",
     "iopub.status.idle": "2024-02-05T16:39:49.579430Z",
     "shell.execute_reply.started": "2024-02-05T16:39:48.751542Z",
     "shell.execute_reply": "2024-02-05T16:39:49.578414Z"
    },
    "trusted": true,
    "pycharm": {
     "name": "#%%\n"
    }
   },
   "execution_count": 69,
   "outputs": []
  },
  {
   "cell_type": "code",
   "source": [
    "def process_text(text, language):\n",
    "    mpn = MosesPunctNormalizer(lang=language)\n",
    "    mpn.substitutions = [(re.compile(r), sub) for r, sub in mpn.substitutions]\n",
    "    \n",
    "    text = text.lower()\n",
    "    \n",
    "    clean = mpn.normalize(text)\n",
    "    clean = replace_nonprint(clean)\n",
    "    # ex: replace '𝓕𝔯𝔞𝔫𝔠𝔢𝔰𝔠𝔞' with 'Francesca'\n",
    "    clean = unicodedata.normalize(\"NFKC\", clean)\n",
    "    clean = clean.replace('\"', '').replace(' - ', ' ')\n",
    "    clena = clean.strip()\n",
    "    \n",
    "    return clean"
   ],
   "metadata": {
    "execution": {
     "iopub.status.busy": "2024-02-05T16:43:55.277000Z",
     "iopub.execute_input": "2024-02-05T16:43:55.277472Z",
     "iopub.status.idle": "2024-02-05T16:43:55.285986Z",
     "shell.execute_reply.started": "2024-02-05T16:43:55.277440Z",
     "shell.execute_reply": "2024-02-05T16:43:55.284618Z"
    },
    "trusted": true,
    "pycharm": {
     "name": "#%%\n"
    }
   },
   "execution_count": 81,
   "outputs": []
  },
  {
   "cell_type": "code",
   "source": [
    "def apply_text_processing(df):\n",
    "    language_map = {\n",
    "        'ro': 'ro',\n",
    "        'rup': 'ro',  \n",
    "        'rup_std': 'ro',  \n",
    "        'rup_cun': 'ro',\n",
    "        'en': 'en',\n",
    "        'es': 'es',\n",
    "        'fr': 'fr'\n",
    "    }\n",
    "    \n",
    "    for column, lang in language_map.items():\n",
    "        df[column] = df[column].apply(lambda text: process_text(text, lang))\n",
    "\n",
    "    return df"
   ],
   "metadata": {
    "execution": {
     "iopub.status.busy": "2024-02-05T16:43:57.281746Z",
     "iopub.execute_input": "2024-02-05T16:43:57.282162Z",
     "iopub.status.idle": "2024-02-05T16:43:57.290113Z",
     "shell.execute_reply.started": "2024-02-05T16:43:57.282133Z",
     "shell.execute_reply": "2024-02-05T16:43:57.288773Z"
    },
    "trusted": true,
    "pycharm": {
     "name": "#%%\n"
    }
   },
   "execution_count": 82,
   "outputs": []
  },
  {
   "cell_type": "code",
   "source": [
    "processed_df = apply_text_processing(translations_df)\n",
    "processed_df"
   ],
   "metadata": {
    "execution": {
     "iopub.status.busy": "2024-02-05T16:43:59.309104Z",
     "iopub.execute_input": "2024-02-05T16:43:59.309495Z",
     "iopub.status.idle": "2024-02-05T16:44:03.142874Z",
     "shell.execute_reply.started": "2024-02-05T16:43:59.309464Z",
     "shell.execute_reply": "2024-02-05T16:44:03.141715Z"
    },
    "trusted": true,
    "pycharm": {
     "name": "#%%\n"
    }
   },
   "execution_count": 83,
   "outputs": [
    {
     "execution_count": 83,
     "output_type": "execute_result",
     "data": {
      "text/plain": "                                                     ro  \\\n0                                    teoria și practica   \n1     sunt unele deprinderi pe care le câștigi doar ...   \n2     așa grăia într-un rând un bătrân înțelept cătr...   \n3     ca să pricepeți ce vă spusei până aici, luați ...   \n4     cică un împărat dintre cei mai înțelepți și um...   \n...                                                 ...   \n2106  vântul le mângâia lin obrajii... parcă-i căinà...   \n2107  lumina se revarsă peste sat. dinu și vira stau...   \n2108  la dangătul clopotului, satul răsuna pustiu......   \n2109  vira se întoarse acasă... cânta, râdea... își ...   \n2110                     fata, biata de ea, înnebunise.   \n\n                                                    rup  \\\n0                                    teoria și practica   \n1     sănt îndoauă învețuri, cari si amintă mași cu ...   \n2     ași zbura unoară un auș cu minte, cătră-ndoi t...   \n3     ca s-lă da s-achicăsească ți va dzîșu pîn aua,...   \n4     un amiră cu multe dhrăñi în cap și alăgat căt ...   \n...                                                 ...   \n2106  vimtul lișor lă hărisi fața... și-l'i plîmse.....   \n2107  hoara s-avea umplută di luñină. dina cu vira ș...   \n2108  la boațea aistă, hoara arăsuna jilos... și-apo...   \n2109  vira s-turnă acasă... cîntă, arăse... s-alăxi ...   \n2110                          mărata feată, eara zurlă.   \n\n                                                rup_std  \\\n0                                    teoria și practica   \n1     sănt îndoauă învețuri, cari si amintă mași cu ...   \n2     ași zbura unoară un auș cu minte, cătră-ndoi t...   \n3     ca s-lă da s-achicăsească ți va d̦îșu pîn aua,...   \n4     un amiră cu multe dhrăńi în cap și alăgat căt ...   \n...                                                 ...   \n2106  vimtul lișor lă hărisi fața... și-ľi plîmse......   \n2107  hoara s-avea umplută di luńină. dina cu vira ș...   \n2108  la boațea aistă, hoara arăsuna jilos... și-apo...   \n2109  vira s-turnă acasă... cîntă, arăse... s-alăxi ...   \n2110                          mărata feată, eara zurlă.   \n\n                                                rup_cun  \\\n0                                   teoria shi practica   \n1     sãnt ãndoauã ãnvetsuri, cari si amintã mashi c...   \n2     ashi zbura unoarã un aush cu minte, cãtrã-ndoi...   \n3     ca s-lã da s-achicãseascã tsi va dzãshu pãn au...   \n4     un amirã cu multe dhrãnji ãn cap shi alãgat cã...   \n...                                                 ...   \n2106  vimtul lishor lã hãrisi fatsa... shi-lji plãms...   \n2107  hoara s-avea umplutã di lunjinã. dina cu vira ...   \n2108  la boatsea aistã, hoara arãsuna jilos... shi-a...   \n2109  vira s-turnã acasã... cãntã, arãse... s-alãxi ...   \n2110                          mãrata featã, eara zurlã.   \n\n                                                     en  \\\n0                                   theory and practice   \n1     there are some skills you gain just by reading...   \n2     so said a wise old man once to young people wh...   \n3     to understand what i have told you so far, con...   \n4     some wise emperor and a wise man, not a joke s...   \n...                                                 ...   \n2106  the wind gently caressed their cheeks... it's ...   \n2107  light pours over the village. dinu and vira ar...   \n2108  at the ringing of the bell, the village rang d...   \n2109  vira returned home... singing, laughing... she...   \n2110                the girl, poor thing, had gone mad.   \n\n                                                     es  \\\n0                                     teoría y práctica   \n1     hay algunas habilidades que se adquieren con s...   \n2     así se lo dijo una vez un viejo sabio a unos j...   \n3     para comprender lo que te he dicho hasta ahora...   \n4     algún sabio emperador -y un sabio, no un chist...   \n...                                                 ...   \n2106  el viento acariciaba suavemente sus mejillas.....   \n2107  la luz se derrama sobre la aldea. dinu y vira ...   \n2108  al toque de campana, el pueblo sonó desierto.....   \n2109  vira volvió a casa... cantando, riendo... se p...   \n2110         la chica, pobrecita, se había vuelto loca.   \n\n                                                     fr  split  \n0                                   théorie et pratique  train  \n1     il y a des compétences que l'on acquiert simpl...  train  \n2     c'est ce qu'a dit un jour un vieux sage à des ...  train  \n3     pour comprendre ce que je vous ai dit jusqu'à ...  train  \n4     un sage empereur et un sage, ce n'est pas une ...  train  \n...                                                 ...    ...  \n2106  le vent caresse doucement leurs joues... c'est...   test  \n2107  la lumière se répand sur le village. dinu et v...   test  \n2108  au son de la cloche, le village retentit déser...   test  \n2109  vira est rentrée chez elle... elle chante, ell...   test  \n2110               la pauvre fille était devenue folle.   test  \n\n[2111 rows x 8 columns]",
      "text/html": "<div>\n<style scoped>\n    .dataframe tbody tr th:only-of-type {\n        vertical-align: middle;\n    }\n\n    .dataframe tbody tr th {\n        vertical-align: top;\n    }\n\n    .dataframe thead th {\n        text-align: right;\n    }\n</style>\n<table border=\"1\" class=\"dataframe\">\n  <thead>\n    <tr style=\"text-align: right;\">\n      <th></th>\n      <th>ro</th>\n      <th>rup</th>\n      <th>rup_std</th>\n      <th>rup_cun</th>\n      <th>en</th>\n      <th>es</th>\n      <th>fr</th>\n      <th>split</th>\n    </tr>\n  </thead>\n  <tbody>\n    <tr>\n      <th>0</th>\n      <td>teoria și practica</td>\n      <td>teoria și practica</td>\n      <td>teoria și practica</td>\n      <td>teoria shi practica</td>\n      <td>theory and practice</td>\n      <td>teoría y práctica</td>\n      <td>théorie et pratique</td>\n      <td>train</td>\n    </tr>\n    <tr>\n      <th>1</th>\n      <td>sunt unele deprinderi pe care le câștigi doar ...</td>\n      <td>sănt îndoauă învețuri, cari si amintă mași cu ...</td>\n      <td>sănt îndoauă învețuri, cari si amintă mași cu ...</td>\n      <td>sãnt ãndoauã ãnvetsuri, cari si amintã mashi c...</td>\n      <td>there are some skills you gain just by reading...</td>\n      <td>hay algunas habilidades que se adquieren con s...</td>\n      <td>il y a des compétences que l'on acquiert simpl...</td>\n      <td>train</td>\n    </tr>\n    <tr>\n      <th>2</th>\n      <td>așa grăia într-un rând un bătrân înțelept cătr...</td>\n      <td>ași zbura unoară un auș cu minte, cătră-ndoi t...</td>\n      <td>ași zbura unoară un auș cu minte, cătră-ndoi t...</td>\n      <td>ashi zbura unoarã un aush cu minte, cãtrã-ndoi...</td>\n      <td>so said a wise old man once to young people wh...</td>\n      <td>así se lo dijo una vez un viejo sabio a unos j...</td>\n      <td>c'est ce qu'a dit un jour un vieux sage à des ...</td>\n      <td>train</td>\n    </tr>\n    <tr>\n      <th>3</th>\n      <td>ca să pricepeți ce vă spusei până aici, luați ...</td>\n      <td>ca s-lă da s-achicăsească ți va dzîșu pîn aua,...</td>\n      <td>ca s-lă da s-achicăsească ți va d̦îșu pîn aua,...</td>\n      <td>ca s-lã da s-achicãseascã tsi va dzãshu pãn au...</td>\n      <td>to understand what i have told you so far, con...</td>\n      <td>para comprender lo que te he dicho hasta ahora...</td>\n      <td>pour comprendre ce que je vous ai dit jusqu'à ...</td>\n      <td>train</td>\n    </tr>\n    <tr>\n      <th>4</th>\n      <td>cică un împărat dintre cei mai înțelepți și um...</td>\n      <td>un amiră cu multe dhrăñi în cap și alăgat căt ...</td>\n      <td>un amiră cu multe dhrăńi în cap și alăgat căt ...</td>\n      <td>un amirã cu multe dhrãnji ãn cap shi alãgat cã...</td>\n      <td>some wise emperor and a wise man, not a joke s...</td>\n      <td>algún sabio emperador -y un sabio, no un chist...</td>\n      <td>un sage empereur et un sage, ce n'est pas une ...</td>\n      <td>train</td>\n    </tr>\n    <tr>\n      <th>...</th>\n      <td>...</td>\n      <td>...</td>\n      <td>...</td>\n      <td>...</td>\n      <td>...</td>\n      <td>...</td>\n      <td>...</td>\n      <td>...</td>\n    </tr>\n    <tr>\n      <th>2106</th>\n      <td>vântul le mângâia lin obrajii... parcă-i căinà...</td>\n      <td>vimtul lișor lă hărisi fața... și-l'i plîmse.....</td>\n      <td>vimtul lișor lă hărisi fața... și-ľi plîmse......</td>\n      <td>vimtul lishor lã hãrisi fatsa... shi-lji plãms...</td>\n      <td>the wind gently caressed their cheeks... it's ...</td>\n      <td>el viento acariciaba suavemente sus mejillas.....</td>\n      <td>le vent caresse doucement leurs joues... c'est...</td>\n      <td>test</td>\n    </tr>\n    <tr>\n      <th>2107</th>\n      <td>lumina se revarsă peste sat. dinu și vira stau...</td>\n      <td>hoara s-avea umplută di luñină. dina cu vira ș...</td>\n      <td>hoara s-avea umplută di luńină. dina cu vira ș...</td>\n      <td>hoara s-avea umplutã di lunjinã. dina cu vira ...</td>\n      <td>light pours over the village. dinu and vira ar...</td>\n      <td>la luz se derrama sobre la aldea. dinu y vira ...</td>\n      <td>la lumière se répand sur le village. dinu et v...</td>\n      <td>test</td>\n    </tr>\n    <tr>\n      <th>2108</th>\n      <td>la dangătul clopotului, satul răsuna pustiu......</td>\n      <td>la boațea aistă, hoara arăsuna jilos... și-apo...</td>\n      <td>la boațea aistă, hoara arăsuna jilos... și-apo...</td>\n      <td>la boatsea aistã, hoara arãsuna jilos... shi-a...</td>\n      <td>at the ringing of the bell, the village rang d...</td>\n      <td>al toque de campana, el pueblo sonó desierto.....</td>\n      <td>au son de la cloche, le village retentit déser...</td>\n      <td>test</td>\n    </tr>\n    <tr>\n      <th>2109</th>\n      <td>vira se întoarse acasă... cânta, râdea... își ...</td>\n      <td>vira s-turnă acasă... cîntă, arăse... s-alăxi ...</td>\n      <td>vira s-turnă acasă... cîntă, arăse... s-alăxi ...</td>\n      <td>vira s-turnã acasã... cãntã, arãse... s-alãxi ...</td>\n      <td>vira returned home... singing, laughing... she...</td>\n      <td>vira volvió a casa... cantando, riendo... se p...</td>\n      <td>vira est rentrée chez elle... elle chante, ell...</td>\n      <td>test</td>\n    </tr>\n    <tr>\n      <th>2110</th>\n      <td>fata, biata de ea, înnebunise.</td>\n      <td>mărata feată, eara zurlă.</td>\n      <td>mărata feată, eara zurlă.</td>\n      <td>mãrata featã, eara zurlã.</td>\n      <td>the girl, poor thing, had gone mad.</td>\n      <td>la chica, pobrecita, se había vuelto loca.</td>\n      <td>la pauvre fille était devenue folle.</td>\n      <td>test</td>\n    </tr>\n  </tbody>\n</table>\n<p>2111 rows × 8 columns</p>\n</div>"
     },
     "metadata": {}
    }
   ]
  },
  {
   "cell_type": "code",
   "source": [
    "processed_df.to_csv(\"Tales_processed.csv\");"
   ],
   "metadata": {
    "execution": {
     "iopub.status.busy": "2024-02-05T16:46:43.311033Z",
     "iopub.execute_input": "2024-02-05T16:46:43.311473Z",
     "iopub.status.idle": "2024-02-05T16:46:43.463293Z",
     "shell.execute_reply.started": "2024-02-05T16:46:43.311440Z",
     "shell.execute_reply": "2024-02-05T16:46:43.461933Z"
    },
    "trusted": true,
    "pycharm": {
     "name": "#%%\n"
    }
   },
   "execution_count": 84,
   "outputs": []
  }
 ]
}